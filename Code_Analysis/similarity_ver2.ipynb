{
  "nbformat": 4,
  "nbformat_minor": 0,
  "metadata": {
    "colab": {
      "provenance": []
    },
    "kernelspec": {
      "name": "python3",
      "display_name": "Python 3"
    },
    "language_info": {
      "name": "python"
    }
  },
  "cells": [
    {
      "cell_type": "markdown",
      "source": [
        "### 사용자 지표 기반 유사한 신제품 1개 추천"
      ],
      "metadata": {
        "id": "OxnlS03wkSkt"
      }
    },
    {
      "cell_type": "code",
      "source": [
        "# df_encode_new.csv 불러오기"
      ],
      "metadata": {
        "id": "HX6Lu6Gmyybu"
      },
      "execution_count": null,
      "outputs": []
    },
    {
      "cell_type": "code",
      "source": [
        "from numpy import dot\n",
        "from numpy.linalg import norm"
      ],
      "metadata": {
        "id": "rsbcpEsdLxqS"
      },
      "execution_count": null,
      "outputs": []
    },
    {
      "cell_type": "code",
      "source": [
        "# 사용자 지표를 받아오는 코드"
      ],
      "metadata": {
        "id": "0i0gwUVvkeJT"
      },
      "execution_count": null,
      "outputs": []
    },
    {
      "cell_type": "code",
      "source": [
        "# 유사도 기반 상품 추천 함수\n",
        "def recommend_new(df, product):\n",
        "    def cos_sim(A, B):\n",
        "          return dot(A, B)/(norm(A)*norm(B))\n",
        "\n",
        "    for i in range(len(df)):\n",
        "        df.iloc[i,-1] = cos_sim(product, df.iloc[i,3:len(df)-1])\n",
        "    df = df.sort_values(by='cos', ascending=False).iloc[[0,]]\n",
        "    return df"
      ],
      "metadata": {
        "id": "l8jZ9fjrKHVv"
      },
      "execution_count": null,
      "outputs": []
    },
    {
      "cell_type": "code",
      "source": [],
      "metadata": {
        "id": "TYTO6okTPCjC"
      },
      "execution_count": null,
      "outputs": []
    },
    {
      "cell_type": "code",
      "source": [
        "recomm_1 = recommend(df_encode_new, 사용자 지표)"
      ],
      "metadata": {
        "id": "f-aHA48uKQyA",
        "colab": {
          "base_uri": "https://localhost:8080/",
          "height": 146
        },
        "outputId": "7d640704-48ce-4aca-8d29-c75642c04615"
      },
      "execution_count": null,
      "outputs": [
        {
          "output_type": "error",
          "ename": "SyntaxError",
          "evalue": "ignored",
          "traceback": [
            "\u001b[0;36m  File \u001b[0;32m\"<ipython-input-12-693c372e2ab6>\"\u001b[0;36m, line \u001b[0;32m1\u001b[0m\n\u001b[0;31m    recomm = recommend(df_encode_new, 시용자 지표)\u001b[0m\n\u001b[0m                                      ^\u001b[0m\n\u001b[0;31mSyntaxError\u001b[0m\u001b[0;31m:\u001b[0m invalid syntax. Perhaps you forgot a comma?\n"
          ]
        }
      ]
    },
    {
      "cell_type": "markdown",
      "source": [
        "### 위의 신제품 기반 기존 제품 5개 추천"
      ],
      "metadata": {
        "id": "WuQHhhlRkmCt"
      }
    },
    {
      "cell_type": "code",
      "source": [
        "# df_encode_review.csv 불러오기"
      ],
      "metadata": {
        "id": "3AGUuPhq1g8Z"
      },
      "execution_count": null,
      "outputs": []
    },
    {
      "cell_type": "code",
      "source": [
        "# 유사도 기반 상품 추천 함수\n",
        "def recommend_reiview(df, product):\n",
        "    def cos_sim(A, B):\n",
        "          return dot(A, B)/(norm(A)*norm(B))\n",
        "\n",
        "    for i in range(len(df)):\n",
        "        df.iloc[i,-1] = cos_sim(product, df.iloc[i,2:len(df)-1])\n",
        "    df = df.sort_values(by='cos', ascending=False)\n",
        "    recomm_2 = df['title'][0:5]\n",
        "    return recomm_2"
      ],
      "metadata": {
        "id": "CNXuhlyDTzyf"
      },
      "execution_count": null,
      "outputs": []
    },
    {
      "cell_type": "code",
      "source": [
        "recomm_2 = recommend_review(df_encode_review, df_encode_new.iloc[df_encode_new.loc[df_encode_new['title'] == recomm_1['title']].index, 3:len(df_encode_new)-1].values)"
      ],
      "metadata": {
        "id": "0TbGhVQNT90f"
      },
      "execution_count": null,
      "outputs": []
    },
    {
      "cell_type": "code",
      "source": [
        "# 중복이면 제거 해야함\n",
        "if recomm.iloc[0] == df_encode_new['title'][3]:\n",
        "  recomm_2 = recomm_2[1:]\n",
        "recomm"
      ],
      "metadata": {
        "id": "FyZHLgeDlhEC"
      },
      "execution_count": null,
      "outputs": []
    },
    {
      "cell_type": "code",
      "source": [
        "for i in range(len(df)):\n",
        "        df.iloc[i,-1] = cos_sim(product, df.iloc[i,3:len(df)-1])\n",
        "    df = df.sort_values(by='cos', ascending=False).iloc[[0,]]\n",
        "    return df"
      ],
      "metadata": {
        "id": "kDBy5pMuPD0q"
      },
      "execution_count": null,
      "outputs": []
    },
    {
      "cell_type": "code",
      "source": [
        "def recommend_combined(df_encode_new, df_encode_review, product):\n",
        "    def cos_sim(A, B):\n",
        "        return dot(A, B) / (norm(A) * norm(B))\n",
        "\n",
        "    for i in range(len(df_encode_new)):\n",
        "        df_encode_new.iloc[i, -1] = cos_sim(product, df_encode_new.iloc[i, 3:-1])\n",
        "\n",
        "    df_encode_new = df_encode_new.sort_values(by='cos', ascending=False)\n",
        "    recomm_1 = df_encode_new.iloc[[0], :]\n",
        "\n",
        "    recomm_2 = []\n",
        "    for i in range(len(df_encode_review)):\n",
        "        df_encode_review.iloc[i, -1] = cos_sim(\n",
        "            product, df_encode_review.iloc[i, 2:-1])\n",
        "\n",
        "    df_encode_review = df_encode_review.sort_values(\n",
        "        by='cos', ascending=False)\n",
        "\n",
        "    for i in range(len(df_encode_new)):\n",
        "        if recomm_1.iloc[0]['title'] == df_encode_new.iloc[i]['title']:\n",
        "            recomm_2 = df_encode_review['title'][0:5]\n",
        "            break\n",
        "\n",
        "    return recomm_1, recomm_2"
      ],
      "metadata": {
        "id": "Dd694XSOO8Zx"
      },
      "execution_count": null,
      "outputs": []
    }
  ]
}