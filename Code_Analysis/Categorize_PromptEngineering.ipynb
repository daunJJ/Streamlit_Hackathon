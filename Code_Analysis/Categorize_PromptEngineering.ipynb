{
  "nbformat": 4,
  "nbformat_minor": 0,
  "metadata": {
    "colab": {
      "provenance": []
    },
    "kernelspec": {
      "name": "python3",
      "display_name": "Python 3"
    },
    "language_info": {
      "name": "python"
    }
  },
  "cells": [
    {
      "cell_type": "markdown",
      "source": [
        "## 데이터 불러오기"
      ],
      "metadata": {
        "id": "fxk2tR5erZKj"
      }
    },
    {
      "cell_type": "code",
      "execution_count": null,
      "metadata": {
        "id": "SoVjUsjIrDXK",
        "collapsed": true
      },
      "outputs": [],
      "source": [
        "from google.colab import drive\n",
        "drive.mount('/content/drive')"
      ]
    },
    {
      "cell_type": "code",
      "source": [
        "import pandas as pd\n",
        "import numpy as np\n",
        "import seaborn as sns\n",
        "import matplotlib.pyplot as plt\n",
        "df_new = pd.read_csv('/content/drive/MyDrive/Streamlit 해커톤/data/df_new.csv')\n",
        "df_new"
      ],
      "metadata": {
        "id": "cmETNtJhrUsP"
      },
      "execution_count": null,
      "outputs": []
    },
    {
      "cell_type": "markdown",
      "source": [
        "## GPT-3.5-turbo API를 이용하여 상품과 질문 매핑"
      ],
      "metadata": {
        "id": "qdz_rRGlsUy3"
      }
    },
    {
      "cell_type": "code",
      "source": [
        "!pip install openai"
      ],
      "metadata": {
        "id": "uKIgKdMH18fC"
      },
      "execution_count": null,
      "outputs": []
    },
    {
      "cell_type": "markdown",
      "source": [
        "### 7개의 카테고리를 대표하는 값 매핑"
      ],
      "metadata": {
        "id": "yytX2tGWDfc3"
      }
    },
    {
      "cell_type": "code",
      "source": [
        "labels=[]"
      ],
      "metadata": {
        "id": "VYmv1CEy2D3A"
      },
      "execution_count": null,
      "outputs": []
    },
    {
      "cell_type": "code",
      "source": [
        "import os\n",
        "import openai\n",
        "\n",
        "openai.api_key = \"\"\n",
        "\n",
        "def labeling_gpt(title, body, category):\n",
        "    messages = [\n",
        "     {\"role\": \"system\", \"content\":\n",
        "       \"내가 음식 제품을 제시해주면, 너는 카테고리별로 대표값을 정해야 돼.\\\n",
        "        각 카테고리별 선택지에서 제품의 특징과 가장 유사한 선택지를 하나가 대표값이 되는거야. 카테고리별 선택지는 다음과 같아. 선택지 중 단 하나만 선택해야 해.\\\n",
        "        1번 카테고리: {'즉석식품-간편', '요리재료-소스'}, \\\n",
        "        2번 카테고리: {'밥', '빵', '면', '떡', '튀김'}, \\\n",
        "        3번 카테고리: {'한식', '일식', '중식', '양식'}, \\\n",
        "        4번 카테고리: {'매움-매콤-고추-와사비', '맵지 않음'}, \\\n",
        "        5번 카테고리: {'달다-달콤,-당', '달지 않음'}, \\\n",
        "        6번 카테고리: {'육식', '채식-과일'}, \\\n",
        "        7번 카테고리: {'새콤-신맛-시다', '시지 않음'}\\\n",
        "        총 7개의 카테고리니까 총 7개의 대표값을 정해야 해. 각 카테고리의 대표값만 출력해야 해.\"},\n",
        "\n",
        "    {\"role\": \"user\", \"content\": \" \\\n",
        "      다음 제품의 카테고리별 대표값을 출력해줘. 제품 이름 : \" + '\"' + title + '\"' + \"제품 설명 : \" + '\"' + body + '\"' + \"제품 분류 : \" + '\"' + category + '\"'},\n",
        "\n",
        "    {\"role\": \"assistant\", \"content\" : \"제품의 특징과 카테고리별 선택지의 유사도를 잘 구해서 대표값을 선택해야 해.예를 들어, \\\n",
        "        '라면'이 입력되면 다음과 같은 양식으로 출력해야 해. \\\n",
        "        '1번 카테고리: 즉석식품-간편, 2번 카테고리: 면. 3번 카테고리: 한식, 4번 카테고리: 매움-매콤-고추-와사비, 5번 카테고리: 달지 않음, 6번 카테고리: 채식-과일, 7번 카테고리: 시지 않음'\"}\n",
        "    ]\n",
        "\n",
        "    completion = openai.ChatCompletion.create(\n",
        "        model=\"gpt-3.5-turbo\",\n",
        "        messages=messages,\n",
        "        temperature=0.2,\n",
        "        top_p=0\n",
        "    )\n",
        "\n",
        "    print(completion.choices[0].message.content)\n",
        "    labels.append(completion.choices[0].message.content)\n"
      ],
      "metadata": {
        "id": "dJa4e0c2rxpu"
      },
      "execution_count": null,
      "outputs": []
    },
    {
      "cell_type": "code",
      "source": [
        "for i in range(0, 33):\n",
        "  title = df_new['title'][i]\n",
        "  body = df_new['body'][i]\n",
        "  category = df_new['category'][i]\n",
        "  print(title)\n",
        "  labeling_gpt(title, body, category)"
      ],
      "metadata": {
        "id": "2PAT444V9r63"
      },
      "execution_count": null,
      "outputs": []
    },
    {
      "cell_type": "code",
      "source": [
        "len(labels)"
      ],
      "metadata": {
        "id": "qdkulisP2GjV"
      },
      "execution_count": null,
      "outputs": []
    },
    {
      "cell_type": "markdown",
      "source": [
        "### 텍스트 전처리 용도로 다시 gpt api 사용"
      ],
      "metadata": {
        "id": "Ivq2RdOLDoS3"
      }
    },
    {
      "cell_type": "code",
      "source": [
        "labels_2 = []"
      ],
      "metadata": {
        "id": "azapdn7lqSLC"
      },
      "execution_count": null,
      "outputs": []
    },
    {
      "cell_type": "code",
      "source": [
        "def labeling_gpt2(data):\n",
        "    messages = [\n",
        "     {\"role\": \"system\", \"content\":\n",
        "       \"필요한 값은 '카테고리명과 값'만 이야.문장을 제외하고 필요한 값만 남겨줘\"},\n",
        "\n",
        "    {\"role\": \"user\", \"content\": \" \\\n",
        "      다음 \" + data + \"에서 '카테고리명과 값'만 남기는거야.\" },\n",
        "\n",
        "    {\"role\": \"assistant\", \"content\" : \"예를 들어 다음과 같은 양식으로 출력해야 해. \\\n",
        "        '1번 카테고리: 즉석식품-간편, 2번 카테고리: 면. 3번 카테고리: 한식, 4번 카테고리: 매움-매콤-고추-와사비, 5번 카테고리: 달지 않음, 6번 카테고리: 채식-과일, 7번 카테고리: 시지 않음' \\\n",
        "        만약 이미 '카테고리명과 값'만 존재한다면 그대로 두면 돼.\"}\n",
        "    ]\n",
        "\n",
        "    completion = openai.ChatCompletion.create(\n",
        "        model=\"gpt-3.5-turbo\",\n",
        "        messages=messages,\n",
        "        temperature=0.2,\n",
        "        top_p=0\n",
        "    )\n",
        "\n",
        "    print(completion.choices[0].message.content)\n",
        "    labels_2.append(completion.choices[0].message.content)"
      ],
      "metadata": {
        "id": "sG4Od-LOhxTA"
      },
      "execution_count": null,
      "outputs": []
    },
    {
      "cell_type": "code",
      "source": [
        "for i in labels:\n",
        "  labeling_gpt2(i)"
      ],
      "metadata": {
        "id": "IIoGmxQosydx"
      },
      "execution_count": null,
      "outputs": []
    },
    {
      "cell_type": "markdown",
      "source": [
        "### 'category' 칼럼 추가"
      ],
      "metadata": {
        "id": "jDU4HyJEDv_h"
      }
    },
    {
      "cell_type": "code",
      "source": [
        "df_new['category'] = labels_2"
      ],
      "metadata": {
        "id": "2XVDoevAs-s6"
      },
      "execution_count": null,
      "outputs": []
    },
    {
      "cell_type": "code",
      "source": [
        "df_new"
      ],
      "metadata": {
        "id": "FU2-4jaewN-5"
      },
      "execution_count": null,
      "outputs": []
    },
    {
      "cell_type": "code",
      "source": [
        "pd.set_option('display.max_colwidth', 1000)"
      ],
      "metadata": {
        "id": "eb2EF8BK0uGH"
      },
      "execution_count": null,
      "outputs": []
    },
    {
      "cell_type": "code",
      "source": [
        "# 이상한 값 변경\n",
        "df_new.loc[df_new['title']  == '꼬리까지 가득 찬 팥붕어빵 480G', 'category'] = \"1번 카테고리: 즉석식품-간편\\n2번 카테고리: 빵\\n3번 카테고리: 한식\\n4번 카테고리: 맵지 않음\\n5번 카테고리: 달다-달콤,-당\\n6번 카테고리: 육식\\n7번 카테고리: 시지 않음\"\n",
        "df_new.loc[df_new['title']  == '베이컨크림뇨끼', 'category'] = \"1번 카테고리: 즉석식품-간편\\n2번 카테고리: 면\\n3번 카테고리: 양식\\n4번 카테고리: 맵지 않음\\n5번 카테고리: 달다-달콤,-당\\n6번 카테고리: 육식\\n7번 카테고리: 시지 않음\"\n",
        "df_new.loc[df_new['title']  == '참깨라면 볶음면', 'category'] = \"1번 카테고리: 즉석식품-간편\\n2번 카테고리: 면\\n3번 카테고리: 한식\\n4번 카테고리: 매움-매콤-고추-와사비\\n5번 카테고리: 달지 않음\\n6번 카테고리: 채식-과일\\n7번 카테고리: 시지 않음\"\n",
        "df_new.loc[df_new['title']  == '트러플크림뇨끼', 'category'] = \"1번 카테고리: 요리재료-소스\\n2번 카테고리: 면\\n3번 카테고리: 양식\\n4번 카테고리: 맵지 않음\\n5번 카테고리: 달다-달콤,-당\\n6번 카테고리: 육식\\n7번 카테고리: 시지 않음\"\n",
        "df_new.loc[df_new['title']  == '청송사과로만든  순사과식초', 'category'] = \"1번 카테고리: 요리재료-소스\\n2번 카테고리: 빵\\n3번 카테고리: 한식\\n4번 카테고리: 맵지 않음\\n5번 카테고리: 달지 않음\\n6번 카테고리: 채식-과일\\n7번 카테고리: 새콤-신맛-시다\"\n",
        "df_new.loc[df_new['title']  == '황도 통조림', 'category'] = \"1번 카테고리: 즉석식품-간편\\n2번 카테고리: 빵\\n3번 카테고리: 양식\\n4번 카테고리: 맵지 않음\\n5번 카테고리: 달다-달콤,-당\\n6번 카테고리: 채식-과일\\n7번 카테고리: 시지 않음\"\n",
        "df_new.loc[df_new['title']  == '이천쌀로만든  막걸리식초', 'category'] = \"1번 카테고리: 요리재료-소스\\n2번 카테고리: 빵\\n3번 카테고리: 한식\\n4번 카테고리: 맵지 않음\\n5번 카테고리: 달지 않음\\n6번 카테고리: 채식-과일\\n7번 카테고리: 새콤-신맛-시다\"\n",
        "df_new.loc[df_new['title']  == '오뚜기밥 수향미', 'category'] = \"1번 카테고리: 즉석식품-간편\\n2번 카테고리: 밥\\n3번 카테고리: 한식\\n4번 카테고리: 맵지 않음\\n5번 카테고리: 달지 않음\\n6번 카테고리: 채식-과일\\n7번 카테고리: 시지 않음\"\n",
        "df_new.loc[df_new['title']  == '마열라면', 'category'] = \"1번 카테고리: 즉석식품-간편\\n2번 카테고리: 면\\n3번 카테고리: 한식\\n4번 카테고리: 매움-매콤-고추-와사비\\n5번 카테고리: 달지 않음\\n6번 카테고리: 채식-과일\\n7번 카테고리: 시지 않음\"\n",
        "df_new.loc[df_new['title']  == '튀만전찍먹소스 320G', 'category'] = \"1번 카테고리: 요리재료-소스\\n2번 카테고리: 튀김\\n3번 카테고리: 한식\\n4번 카테고리: 매움-매콤-고추-와사비\\n5번 카테고리: 달지 않음\\n6번 카테고리: 채식-과일\\n7번 카테고리: 새콤-신맛-시다\"\n",
        "df_new.loc[df_new['title']  == '빅컵누들 매콤한맛', 'category'] = \"1번 카테고리: 즉석식품-간편\\n2번 카테고리: 면\\n3번 카테고리: 한식\\n4번 카테고리: 매움-매콤-고추-와사비\\n5번 카테고리: 달지 않음\\n6번 카테고리: 채식-당\\n7번 카테고리: 시지 않음\"\n",
        "df_new.loc[df_new['title']  == '직접 갈아먹는 스모크페퍼솔트 70g', 'category'] = \"1번 카테고리: 즉석식품-간편\\n2번 카테고리: 면\\n3번 카테고리: 양식\\n4번 카테고리: 맵지 않음\\n5번 카테고리: 달지 않음\\n6번 카테고리: 채식-과일\\n7번 카테고리: 시지 않음\"\n",
        "df_new.loc[df_new['title']  == '순후추떡볶이', 'category'] = \"1번 카테고리: 즉석식품-간편\\n2번 카테고리: 떡\\n3번 카테고리: 한식\\n4번 카테고리: 매움-매콤-고추-와사비\\n5번 카테고리: 달지 않음\\n6번 카테고리: 채식-과일\\n7번 카테고리: 시지 않음\"\n",
        "df_new.loc[df_new['title']  == '꼬리까지 가득 찬 슈크림붕어빵 480G', 'category'] = \"1번 카테고리: 즉석식품-간편\\n2번 카테고리: 빵\\n3번 카테고리: 한식\\n4번 카테고리: 맵지 않음\\n5번 카테고리: 달다-달콤,-당\\n6번 카테고리: 채식-과일\\n7번 카테고리: 시지 않음\"\n",
        "df_new.loc[df_new['title']  == '키위 저칼로리드레싱(냉장) 310G', 'category'] = \"1번 카테고리: 요리재료-소스\\n2번 카테고리: 빵\\n3번 카테고리: 양식\\n4번 카테고리: 맵지 않음\\n5번 카테고리: 달다-달콤,-당\\n6번 카테고리: 채식-과일\\n7번 카테고리: 새콤-신맛-시다\"\n",
        "df_new.loc[df_new['title']  == '제주담음 제주감귤도우피자', 'category'] = \"1번 카테고리: 즉석식품-간편\\n2번 카테고리: 빵\\n3번 카테고리: 양식\\n4번 카테고리: 맵지 않음\\n5번 카테고리: 달다-달콤,-당\\n6번 카테고리: 채식-과일\\n7번 카테고리: 새콤-신맛-시다\"\n",
        "df_new.loc[df_new['title']  == '직접 볶은 트러플 간짜장 고형', 'category'] = \"1번 카테고리: 요리재료-소스\\n2번 카테고리: 면\\n3번 카테고리: 중식\\n4번 카테고리: 맵지 않음\\n5번 카테고리: 달다-달콤,-당\\n6번 카테고리: 채식-과일\\n7번 카테고리: 시지 않음\"\n",
        "df_new.loc[df_new['title']  == '히모카와우동(2인) 396G', 'category'] = \"1번 카테고리: 요리재료-소스\\n2번 카테고리: 면\\n3번 카테고리: 일식\\n4번 카테고리: 맵지 않음\\n5번 카테고리: 달지 않음\\n6번 카테고리: 채식-과일\\n7번 카테고리: 시지 않음\"\n",
        "df_new.loc[df_new['title']  == '빅컵누들 우동맛', 'category'] = \"1번 카테고리: 즉석식품-간편\\n2번 카테고리: 면\\n3번 카테고리: 일식\\n4번 카테고리: 맵지 않음\\n5번 카테고리: 달지 않음\\n6번 카테고리: 채식-과일\\n7번 카테고리: 시지 않음\""
      ],
      "metadata": {
        "id": "9SkMKFQBwPWR"
      },
      "execution_count": null,
      "outputs": []
    },
    {
      "cell_type": "code",
      "source": [
        " df_new"
      ],
      "metadata": {
        "id": "137Bt4bi6AIE"
      },
      "execution_count": null,
      "outputs": []
    },
    {
      "cell_type": "markdown",
      "source": [
        "## 하나의 카테고리 변수에 들어있던 7개의 카테고리를 분류하여 각각의 칼럼으로 나눔"
      ],
      "metadata": {
        "id": "ahU4gX--D5Zj"
      }
    },
    {
      "cell_type": "code",
      "source": [
        "df_new['readymeal'] = df_new['category'].str.extract(r'1번 카테고리: ([^\\n]+)')"
      ],
      "metadata": {
        "id": "NtfEw65O6ARW"
      },
      "execution_count": null,
      "outputs": []
    },
    {
      "cell_type": "code",
      "source": [
        "df_new['kind'] = df_new['category'].str.extract(r'2번 카테고리: ([^\\n]+)')"
      ],
      "metadata": {
        "id": "Qg6OSBO46AZe"
      },
      "execution_count": null,
      "outputs": []
    },
    {
      "cell_type": "code",
      "source": [
        "df_new['country'] = df_new['category'].str.extract(r'3번 카테고리: ([^\\n]+)')"
      ],
      "metadata": {
        "id": "UMuF58_a6Agx"
      },
      "execution_count": null,
      "outputs": []
    },
    {
      "cell_type": "code",
      "source": [
        "df_new['spicy'] = df_new['category'].str.extract(r'4번 카테고리: ([^\\n]+)')"
      ],
      "metadata": {
        "id": "fN1Y2oOjAZG9"
      },
      "execution_count": null,
      "outputs": []
    },
    {
      "cell_type": "code",
      "source": [
        "df_new['sweet'] = df_new['category'].str.extract(r'5번 카테고리: ([^\\n]+)')"
      ],
      "metadata": {
        "id": "ovcC8wBFAgg2"
      },
      "execution_count": null,
      "outputs": []
    },
    {
      "cell_type": "code",
      "source": [
        "df_new['began'] = df_new['category'].str.extract(r'6번 카테고리: ([^\\n]+)')"
      ],
      "metadata": {
        "id": "8XZ14C7FAjMh"
      },
      "execution_count": null,
      "outputs": []
    },
    {
      "cell_type": "code",
      "source": [
        "df_new['sour'] = df_new['category'].str.extract(r'7번 카테고리: ([^\\n]+)')"
      ],
      "metadata": {
        "id": "wpU8W07_Amay"
      },
      "execution_count": null,
      "outputs": []
    },
    {
      "cell_type": "code",
      "source": [
        "df_new[['readymeal','kind','country','spicy','sweet','began','sour']]"
      ],
      "metadata": {
        "id": "tC89s5mOA54r"
      },
      "execution_count": null,
      "outputs": []
    },
    {
      "cell_type": "code",
      "source": [
        "# 이상한 값 바꾸기\n",
        "df_new['title'][8]"
      ],
      "metadata": {
        "id": "TEbYKU1WA-Pr"
      },
      "execution_count": null,
      "outputs": []
    },
    {
      "cell_type": "code",
      "source": [
        "df_new['readymeal'][8] = '즉석식품-간편'"
      ],
      "metadata": {
        "id": "edK27xkIBTvT"
      },
      "execution_count": null,
      "outputs": []
    },
    {
      "cell_type": "code",
      "source": [
        "df_new['sweet'][8] = '달다-달콤,-당'"
      ],
      "metadata": {
        "id": "tI7BZ6zNBdpf"
      },
      "execution_count": null,
      "outputs": []
    },
    {
      "cell_type": "code",
      "source": [
        "df_new['began'][8] = '육식'"
      ],
      "metadata": {
        "id": "Ove7VWDmBvlt"
      },
      "execution_count": null,
      "outputs": []
    },
    {
      "cell_type": "code",
      "source": [
        "df_new['sour'][8] = '새콤-신맛-시다'"
      ],
      "metadata": {
        "id": "K1dDb9xSCBXh"
      },
      "execution_count": null,
      "outputs": []
    },
    {
      "cell_type": "code",
      "source": [
        "df_new['began'][12] = '채식-과일'"
      ],
      "metadata": {
        "id": "r5m0rvH7HAo_"
      },
      "execution_count": null,
      "outputs": []
    },
    {
      "cell_type": "code",
      "source": [
        "df_new[['readymeal','kind','country','spicy','sweet','began','sour']]"
      ],
      "metadata": {
        "id": "7Mvco7K5CGre"
      },
      "execution_count": null,
      "outputs": []
    },
    {
      "cell_type": "markdown",
      "source": [
        "### 원핫 인코딩"
      ],
      "metadata": {
        "id": "F9Yu9-hkEFLJ"
      }
    },
    {
      "cell_type": "code",
      "source": [
        "# 원핫 인코딩 적용\n",
        "df_encoded = pd.get_dummies(df_new, columns=['readymeal', 'kind', 'country', 'spicy', 'sweet', 'began', 'sour'])"
      ],
      "metadata": {
        "id": "93QmEHttCJrx"
      },
      "execution_count": null,
      "outputs": []
    },
    {
      "cell_type": "code",
      "source": [
        "df_encoded"
      ],
      "metadata": {
        "id": "TZQ2gZpoC4H4"
      },
      "execution_count": null,
      "outputs": []
    },
    {
      "cell_type": "code",
      "source": [
        "df_new_encoded = df_encoded.drop(columns=[''])"
      ],
      "metadata": {
        "id": "rh4OstvUFeTT"
      },
      "execution_count": null,
      "outputs": []
    },
    {
      "cell_type": "code",
      "source": [
        "# 칼럼명 변경\n",
        "new_column_names = {'readymeal_요리재료-소스': 'readymeal_요리재료',\n",
        "                    'readymeal_즉석식품-간편': 'readymeal_즉석식품',\n",
        "                    'spicy_매움-매콤-고추-와사비': 'spicy_매움',\n",
        "                    'spicy_맵지 않음': 'spicy_맵지않음',\n",
        "                    'sweet_달다-달콤,-당': 'sweet_달다',\n",
        "                    'sweet_달지 않음':'sweet_달지않음',\n",
        "                    'began_채식-과일':'began_채식',\n",
        "                    'sour_새콤-신맛-시다':'sour_신맛',\n",
        "                    'sour_시지 않음':'sour_시지않음'}"
      ],
      "metadata": {
        "id": "exTwVYUWFpTB"
      },
      "execution_count": null,
      "outputs": []
    },
    {
      "cell_type": "code",
      "source": [
        "df_new_encoded.rename(columns=new_column_names, inplace=True)"
      ],
      "metadata": {
        "id": "Zwqoug7NFpWR"
      },
      "execution_count": null,
      "outputs": []
    },
    {
      "cell_type": "code",
      "source": [
        "df_new_encoded.to_csv(\"df_new_encoded.csv\", encoding = \"utf-8-sig\")"
      ],
      "metadata": {
        "id": "E_5vQlFSFpZL"
      },
      "execution_count": null,
      "outputs": []
    },
    {
      "cell_type": "code",
      "source": [],
      "metadata": {
        "id": "OSCfy_s1FJFn"
      },
      "execution_count": null,
      "outputs": []
    },
    {
      "cell_type": "code",
      "source": [],
      "metadata": {
        "id": "zYEJSnjJFMnv"
      },
      "execution_count": null,
      "outputs": []
    }
  ]
}